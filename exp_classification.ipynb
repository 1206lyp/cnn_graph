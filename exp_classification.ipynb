{
 "cells": [
  {
   "cell_type": "markdown",
   "metadata": {},
   "source": [
    "# Experiment: classification with learned graph filters\n",
    "\n",
    "We want to classify data by first extracting meaningful features from learned filters."
   ]
  },
  {
   "cell_type": "code",
   "execution_count": null,
   "metadata": {
    "collapsed": true
   },
   "outputs": [],
   "source": [
    "import time\n",
    "import numpy as np\n",
    "import scipy.sparse, scipy.sparse.linalg, scipy.spatial.distance\n",
    "from sklearn import datasets, linear_model\n",
    "import matplotlib.pyplot as plt\n",
    "%matplotlib inline\n",
    "tol = 1e-10"
   ]
  },
  {
   "cell_type": "markdown",
   "metadata": {},
   "source": [
    "## Dataset\n",
    "\n",
    "* Two digits version of MNIST with N samples of each class."
   ]
  },
  {
   "cell_type": "code",
   "execution_count": null,
   "metadata": {
    "collapsed": false
   },
   "outputs": [],
   "source": [
    "def mnist(a, b, N):\n",
    "    \"\"\"Prepare data for binary classification of MNIST.\"\"\"\n",
    "    mnist = datasets.fetch_mldata('MNIST original', data_home='.')\n",
    "\n",
    "    assert N < min(sum(mnist.target==a), sum(mnist.target==b))\n",
    "    M = mnist.data.shape[1]\n",
    "    \n",
    "    X = np.empty((N, 2, M))\n",
    "    X[:,0,:] = mnist.data[mnist.target==a,:][:N,:]\n",
    "    X[:,1,:] = mnist.data[mnist.target==b,:][:N,:]\n",
    "    \n",
    "    y = np.empty((N, 2))\n",
    "    y[:,0] = -1\n",
    "    y[:,1] = +1\n",
    "\n",
    "    X.shape = 2*N, M\n",
    "    y.shape = 2*N\n",
    "    return X, y\n",
    "\n",
    "X, y = mnist(5, 1, 1000)\n",
    "\n",
    "N, M = X.shape\n",
    "print('Dimensionality: N={} samples, M={} features'.format(N, M))\n",
    "\n",
    "X -= 127.5\n",
    "print('X in [{}, {}]'.format(np.min(X), np.max(X)))\n",
    "\n",
    "def plot_digit(nn):\n",
    "    m = int(np.sqrt(M))\n",
    "    fig, axes = plt.subplots(1,len(nn), figsize=(15,5))\n",
    "    for i, n in enumerate(nn):\n",
    "        n = int(n)\n",
    "        img = X[n,:]\n",
    "        axes[i].imshow(img.reshape((m,m)))\n",
    "        axes[i].set_title('Label: y = {:.0f}'.format(y[n]))\n",
    "\n",
    "plot_digit([0, 1, 1e2, 1e2+1, 1e3, 1e3+1])"
   ]
  },
  {
   "cell_type": "markdown",
   "metadata": {},
   "source": [
    "## Regularized least-square\n",
    "\n",
    "### Loss and gradient"
   ]
  },
  {
   "cell_type": "code",
   "execution_count": null,
   "metadata": {
    "collapsed": true
   },
   "outputs": [],
   "source": [
    "def L(w, b=0):\n",
    "    return np.linalg.norm(X @ w + b - y)**2 / N + tau * np.linalg.norm(w)**2\n",
    "\n",
    "def dL(w, X, y):\n",
    "    N = len(y)\n",
    "    return 2 / N * X.T @ (X @ w - y) + 2 * tau * w\n",
    "\n",
    "def print_perf(w):\n",
    "    print('L({}) = {}'.format(w, L(eval(w))))\n",
    "    print('|dL({})| = {}'.format(w, np.linalg.norm(dL(eval(w), X, y))))"
   ]
  },
  {
   "cell_type": "markdown",
   "metadata": {},
   "source": [
    "### Reference: sklearn ridge regression\n",
    "\n",
    "* With regularized data, the objective is the same with or without bias."
   ]
  },
  {
   "cell_type": "code",
   "execution_count": null,
   "metadata": {
    "collapsed": false
   },
   "outputs": [],
   "source": [
    "tau = 1e3\n",
    "\n",
    "clf = linear_model.Ridge(alpha=tau*N, fit_intercept=False)\n",
    "clf.fit(X, y)\n",
    "w_skl = clf.coef_\n",
    "\n",
    "print('L(w_skl) = {}'.format(L(w_skl, clf.intercept_)))\n",
    "print_perf('w_skl')\n",
    "\n",
    "# Normalized data: intercept should be small.\n",
    "print('bias: {}'.format(abs(np.mean(y - X @ w_skl))))"
   ]
  },
  {
   "cell_type": "markdown",
   "metadata": {},
   "source": [
    "### Linear classifier"
   ]
  },
  {
   "cell_type": "code",
   "execution_count": null,
   "metadata": {
    "collapsed": false
   },
   "outputs": [],
   "source": [
    "w_d = np.linalg.inv(X.T @ X + tau * N * np.identity(M)) @ X.T @ y\n",
    "print_perf('w_d')\n",
    "np.testing.assert_allclose(w_d, w_skl, atol=1e-10)"
   ]
  }
 ],
 "metadata": {
  "kernelspec": {
   "display_name": "Python 3",
   "language": "python",
   "name": "python3"
  },
  "language_info": {
   "codemirror_mode": {
    "name": "ipython",
    "version": 3
   },
   "file_extension": ".py",
   "mimetype": "text/x-python",
   "name": "python",
   "nbconvert_exporter": "python",
   "pygments_lexer": "ipython3",
   "version": "3.5.1"
  }
 },
 "nbformat": 4,
 "nbformat_minor": 0
}
