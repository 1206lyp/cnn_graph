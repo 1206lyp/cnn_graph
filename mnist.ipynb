{
 "cells": [
  {
   "cell_type": "code",
   "execution_count": null,
   "metadata": {
    "collapsed": false
   },
   "outputs": [],
   "source": [
    "import tensorflow as tf\n",
    "import time\n",
    "import graph\n",
    "\n",
    "#import models\n",
    "%run -n models.ipynb"
   ]
  },
  {
   "cell_type": "code",
   "execution_count": null,
   "metadata": {
    "collapsed": false
   },
   "outputs": [],
   "source": [
    "flags = tf.app.flags\n",
    "FLAGS = flags.FLAGS\n",
    "# 0.1 for cnn2, 0.3 for fgcnn2, 0.2 for lgcnn2\n",
    "flags.DEFINE_float('learning_rate', 0.2, 'Initial learning rate.')\n",
    "flags.DEFINE_integer('batch_size', 100, 'Batch size.')\n",
    "flags.DEFINE_float('regularization', 0, 'L2 regularizations of weights and biases.')\n",
    "flags.DEFINE_integer('number_edges', 8, 'Graph: minimum number of edges per vertex.')\n",
    "flags.DEFINE_bool('normalized_laplacian', True, 'Graph Laplacian: normalized.')"
   ]
  },
  {
   "cell_type": "code",
   "execution_count": null,
   "metadata": {
    "collapsed": false
   },
   "outputs": [],
   "source": [
    "from tensorflow.examples.tutorials.mnist import input_data\n",
    "mnist = input_data.read_data_sets(\"data_mnist\", one_hot=False)"
   ]
  },
  {
   "cell_type": "markdown",
   "metadata": {},
   "source": [
    "# Feature graph"
   ]
  },
  {
   "cell_type": "code",
   "execution_count": null,
   "metadata": {
    "collapsed": false
   },
   "outputs": [],
   "source": [
    "def laplacian(corners=False):\n",
    "    z = graph.grid(28)\n",
    "    A = graph.adjacency(z, k=FLAGS.number_edges)\n",
    "\n",
    "    # Connections are only vertical or horizontal on the grid.\n",
    "    # Corner vertices are connected to 2 neightbors only.\n",
    "    if corners:\n",
    "        import scipy.sparse\n",
    "        A = A.toarray()\n",
    "        A[A < A.max()/1.5] = 0\n",
    "        A = scipy.sparse.csr_matrix(A)\n",
    "        print('{} edges'.format(A.nnz))\n",
    "\n",
    "    return graph.laplacian(A, normalized=FLAGS.normalized_laplacian)\n",
    "\n",
    "t_start = time.process_time()\n",
    "L = laplacian()\n",
    "print('Execution time: {:.2f}s'.format(time.process_time() - t_start))\n",
    "\n",
    "#lamb, U = graph.fourier(L)\n",
    "#print('Spectrum in [{:1.2e}, {:1.2e}]'.format(lamb[0], lamb[-1]))"
   ]
  },
  {
   "cell_type": "markdown",
   "metadata": {},
   "source": [
    "# Neural network"
   ]
  },
  {
   "cell_type": "code",
   "execution_count": null,
   "metadata": {
    "collapsed": false
   },
   "outputs": [],
   "source": [
    "model = fc1()\n",
    "model = fc2(nhiddens=100)\n",
    "model = cnn2(K=5, F=10)  # K=28 is equivalent to filtering with fgcnn.\n",
    "model = fcnn2(F=10)\n",
    "model = fgcnn2(L, F=10)\n",
    "\n",
    "if True:\n",
    "    K = 5\n",
    "    t_start = time.process_time()\n",
    "    xl = mnist.test._images.T\n",
    "    xl = graph.lanczos(L, xl, K)\n",
    "    mnist.test._images = xl.T\n",
    "    xl = mnist.train._images.T\n",
    "    xl = graph.lanczos(L, xl, K)\n",
    "    mnist.train._images = xl.T\n",
    "    model = lgcnn2(L, F=10, K=K)\n",
    "    print('Execution time: {:.2f}s'.format(time.process_time() - t_start))\n",
    "    x = tf.placeholder(tf.float32, (None, 784, K))\n",
    "else:\n",
    "    x = tf.placeholder(tf.float32, (None, 784))"
   ]
  },
  {
   "cell_type": "code",
   "execution_count": null,
   "metadata": {
    "collapsed": false
   },
   "outputs": [],
   "source": [
    "#x = tf.placeholder(tf.float32, (FLAGS.batch_size, 784))\n",
    "#y = tf.placeholder(tf.int32, (FLAGS.batch_size))\n",
    "#x = tf.placeholder(tf.float32, (None, 784))\n",
    "y = tf.placeholder(tf.int32, (None))\n",
    "\n",
    "# Construct computational graph\n",
    "logits = model.inference(x)\n",
    "loss = model.loss(logits, y, FLAGS.regularization)\n",
    "train_op = model.training(loss, FLAGS.learning_rate)\n",
    "eval_correct = model.evaluation(logits, y)\n",
    "\n",
    "# Train\n",
    "t_start = time.process_time()\n",
    "init = tf.initialize_all_variables()\n",
    "sess = tf.Session()\n",
    "sess.run(init)\n",
    "for i in range(int(1e4)):\n",
    "    batch_xs, batch_ys = mnist.train.next_batch(FLAGS.batch_size)\n",
    "    sess.run(train_op, feed_dict={x: batch_xs, y: batch_ys})\n",
    "print('Training time: {:.2f}s'.format(time.process_time() - t_start))\n",
    "\n",
    "# Evaluate\n",
    "ncorrects = sess.run(eval_correct, feed_dict={x: mnist.test.images, y: mnist.test.labels})\n",
    "precision = ncorrects / mnist.test.num_examples\n",
    "print('Precision: {:.2f}% ({:d} / {:d})'.format(precision*100, ncorrects, mnist.test.num_examples))\n",
    "sess.close()"
   ]
  }
 ],
 "metadata": {
  "kernelspec": {
   "display_name": "Python 3",
   "language": "python",
   "name": "python3"
  },
  "language_info": {
   "codemirror_mode": {
    "name": "ipython",
    "version": 3
   },
   "file_extension": ".py",
   "mimetype": "text/x-python",
   "name": "python",
   "nbconvert_exporter": "python",
   "pygments_lexer": "ipython3",
   "version": "3.5.1"
  }
 },
 "nbformat": 4,
 "nbformat_minor": 0
}
