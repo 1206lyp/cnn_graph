{
 "cells": [
  {
   "cell_type": "code",
   "execution_count": null,
   "metadata": {
    "collapsed": false
   },
   "outputs": [],
   "source": [
    "import tensorflow as tf\n",
    "import time, shutil\n",
    "import graph\n",
    "import coarsening\n",
    "\n",
    "%matplotlib inline\n",
    "\n",
    "#import models\n",
    "%run -n models.ipynb"
   ]
  },
  {
   "cell_type": "code",
   "execution_count": null,
   "metadata": {
    "collapsed": false
   },
   "outputs": [],
   "source": [
    "flags = tf.app.flags\n",
    "FLAGS = flags.FLAGS\n",
    "\n",
    "# Graphs.\n",
    "flags.DEFINE_integer('number_edges', 8, 'Graph: minimum number of edges per vertex.')\n",
    "flags.DEFINE_string('metric', 'euclidean', 'Graph: similarity measure (between features).')\n",
    "# TODO: change cgcnn for combinatorial Laplacians.\n",
    "flags.DEFINE_bool('normalized_laplacian', True, 'Graph Laplacian: normalized.')\n",
    "flags.DEFINE_integer('coarsening_levels', 4, 'Number of coarsened graphs.')\n",
    "\n",
    "# Directories.\n",
    "flags.DEFINE_string('dir_data', 'data_mnist', 'Directory to store data.')"
   ]
  },
  {
   "cell_type": "markdown",
   "metadata": {},
   "source": [
    "# Feature graph"
   ]
  },
  {
   "cell_type": "code",
   "execution_count": null,
   "metadata": {
    "collapsed": false
   },
   "outputs": [],
   "source": [
    "def grid_graph(m, corners=False):\n",
    "    z = graph.grid(m)\n",
    "    A = graph.adjacency(z, k=FLAGS.number_edges, metric=FLAGS.metric)\n",
    "\n",
    "    # Connections are only vertical or horizontal on the grid.\n",
    "    # Corner vertices are connected to 2 neightbors only.\n",
    "    if corners:\n",
    "        import scipy.sparse\n",
    "        A = A.toarray()\n",
    "        A[A < A.max()/1.5] = 0\n",
    "        A = scipy.sparse.csr_matrix(A)\n",
    "        print('{} edges'.format(A.nnz))\n",
    "\n",
    "    print(\"{} > {} edges\".format(A.nnz//2, FLAGS.number_edges*m**2//2))\n",
    "    return A\n",
    "\n",
    "def coarsen(A, levels):\n",
    "    graphs, parents = coarsening.metis(A, levels)\n",
    "    perms = coarsening.compute_perm(parents)\n",
    "\n",
    "    laplacians = []\n",
    "    for i,A in enumerate(graphs):\n",
    "        M, M = A.shape\n",
    "\n",
    "        # No self-connections.\n",
    "        if True:\n",
    "            A = A.tocoo()\n",
    "            A.setdiag(0)\n",
    "\n",
    "        if i < levels:\n",
    "            A = coarsening.perm_adjacency(A, perms[i])\n",
    "\n",
    "        A = A.tocsr()\n",
    "        A.eliminate_zeros()\n",
    "        Mnew, Mnew = A.shape\n",
    "        print('Layer {0}: M_{0} = |V| = {1} nodes ({2} added), |E| = {3} edges'.format(i, Mnew, Mnew-M, A.nnz//2))\n",
    "\n",
    "        L = graph.laplacian(A, normalized=FLAGS.normalized_laplacian)\n",
    "        laplacians.append(L)\n",
    "    return laplacians, perms[0] if len(perms) > 0 else None\n",
    "\n",
    "t_start = time.process_time()\n",
    "A = grid_graph(28, corners=False)\n",
    "A = graph.replace_random_edges(A, 0)\n",
    "L, perm = coarsen(A, FLAGS.coarsening_levels)\n",
    "print('Execution time: {:.2f}s'.format(time.process_time() - t_start))\n",
    "graph.plot_spectrum(L)\n",
    "del A"
   ]
  },
  {
   "cell_type": "markdown",
   "metadata": {},
   "source": [
    "# Data"
   ]
  },
  {
   "cell_type": "code",
   "execution_count": null,
   "metadata": {
    "collapsed": false
   },
   "outputs": [],
   "source": [
    "from tensorflow.examples.tutorials.mnist import input_data\n",
    "mnist = input_data.read_data_sets(FLAGS.dir_data, one_hot=False)\n",
    "\n",
    "t_start = time.process_time()\n",
    "mnist.train._images = coarsening.perm_data(mnist.train._images, perm)\n",
    "mnist.validation._images = coarsening.perm_data(mnist.validation._images, perm)\n",
    "mnist.test._images = coarsening.perm_data(mnist.test._images, perm)\n",
    "print('Execution time: {:.2f}s'.format(time.process_time() - t_start))\n",
    "del perm"
   ]
  },
  {
   "cell_type": "markdown",
   "metadata": {},
   "source": [
    "# Neural networks"
   ]
  },
  {
   "cell_type": "code",
   "execution_count": null,
   "metadata": {
    "collapsed": true
   },
   "outputs": [],
   "source": [
    "#model = fc1()\n",
    "#model = fc2(nhiddens=100)\n",
    "#model = cnn2(K=5, F=10)  # K=28 is equivalent to filtering with fgcnn.\n",
    "#model = fcnn2(F=10)\n",
    "#model = fgcnn2(L[0], F=10)\n",
    "#model = lgcnn2_2(L[0], F=10, K=10)\n",
    "#model = cgcnn2_3(L[0], F=10, K=5)\n",
    "#model = cgcnn2_4(L[0], F=10, K=5)\n",
    "#model = cgcnn2_5(L[0], F=10, K=5)\n",
    "\n",
    "if False:\n",
    "    K = 5  # 5 or 5^2\n",
    "    t_start = time.process_time()\n",
    "    mnist.test._images = graph.lanczos(L, mnist.test._images.T, K).T\n",
    "    mnist.train._images = graph.lanczos(L, mnist.train._images.T, K).T\n",
    "    model = lgcnn2_1(L, F=10, K=K)\n",
    "    print('Execution time: {:.2f}s'.format(time.process_time() - t_start))\n",
    "    ph_data = tf.placeholder(tf.float32, (FLAGS.batch_size, mnist.train.images.shape[1], K), 'data')"
   ]
  },
  {
   "cell_type": "code",
   "execution_count": null,
   "metadata": {
    "collapsed": false
   },
   "outputs": [],
   "source": [
    "common = {}\n",
    "common['num_epochs']     = 10\n",
    "common['batch_size']     = 100\n",
    "common['decay_steps']    = mnist.train.num_examples / common['batch_size']\n",
    "common['eval_frequency'] = 30 * common['num_epochs']\n",
    "common['filter']         = 'chebyshev5'\n",
    "common['brelu']          = 'b1relu'\n",
    "common['pool']           = 'mpool1'\n",
    "C = max(mnist.train.labels) + 1  # number of classes\n",
    "\n",
    "shutil.rmtree('summaries/mnist1', ignore_errors=True)\n",
    "shutil.rmtree('checkpoints/mnist1', ignore_errors=True)"
   ]
  },
  {
   "cell_type": "code",
   "execution_count": null,
   "metadata": {
    "collapsed": false
   },
   "outputs": [],
   "source": [
    "params = common.copy()\n",
    "params['dir_name']       = 'mnist1/softmax'\n",
    "params['regularization'] = 5e-4\n",
    "params['dropout']        = 1\n",
    "params['learning_rate']  = 0.03\n",
    "params['decay_rate']     = 0.95\n",
    "params['momentum']       = 0.9\n",
    "params['F']              = []\n",
    "params['K']              = []\n",
    "params['p']              = []\n",
    "params['M']              = [C]\n",
    "model = cgcnn(L, **params)\n",
    "model.fit(mnist.train.images, mnist.train.labels, mnist.validation.images, mnist.validation.labels)\n",
    "print('train {}'.format(model.evaluate(mnist.train.images, mnist.train.labels)[0]))\n",
    "print('test {}'.format(model.evaluate(mnist.test.images, mnist.test.labels)[0]))"
   ]
  },
  {
   "cell_type": "code",
   "execution_count": null,
   "metadata": {
    "collapsed": false
   },
   "outputs": [],
   "source": [
    "# Corresponds to cgcnn2_2(L[0], F=10, K=20).\n",
    "params = common.copy()\n",
    "params['dir_name']       = 'mnist1/gconv_softmax'\n",
    "params['regularization'] = 0\n",
    "params['dropout']        = 1\n",
    "params['learning_rate']  = 0.03\n",
    "params['decay_rate']     = 0.95\n",
    "params['momentum']       = 0.9\n",
    "params['F']              = [10]\n",
    "params['K']              = [20]\n",
    "params['p']              = [1]\n",
    "params['M']              = [C]\n",
    "params['filter']         = 'chebyshev2'\n",
    "params['brelu']          = 'b2relu'\n",
    "model = cgcnn(L, **params)\n",
    "model.fit(mnist.train.images, mnist.train.labels, mnist.validation.images, mnist.validation.labels)\n",
    "print('train {}'.format(model.evaluate(mnist.train.images, mnist.train.labels)[0]))\n",
    "print('test {}'.format(model.evaluate(mnist.test.images, mnist.test.labels)[0]))"
   ]
  },
  {
   "cell_type": "code",
   "execution_count": null,
   "metadata": {
    "collapsed": false
   },
   "outputs": [],
   "source": [
    "# Architecture of TF MNIST conv model (LeNet-5-like).\n",
    "# Changes: regularization, dropout, decaying training rate, momentum optimizer, stopping condition, size of biases.\n",
    "# Differences: training data randomization, init conv1 biases at 0.\n",
    "params = common.copy()\n",
    "params['dir_name']       = 'mnist1/gconv_gconv_fc_softmax_lenet5'\n",
    "params['regularization'] = 5e-4\n",
    "params['dropout']        = 0.5\n",
    "params['learning_rate']  = 0.03\n",
    "params['decay_rate']     = 0.95\n",
    "params['momentum']       = 0.9\n",
    "params['F']              = [32, 64]\n",
    "params['K']              = [25, 25]\n",
    "params['p']              = [4, 4]\n",
    "params['M']              = [512, C]\n",
    "model = cgcnn(L, **params)\n",
    "model.fit(mnist.train.images, mnist.train.labels, mnist.validation.images, mnist.validation.labels)\n",
    "print('train {}'.format(model.evaluate(mnist.train.images, mnist.train.labels)[0]))\n",
    "print('test {}'.format(model.evaluate(mnist.test.images, mnist.test.labels)[0]))"
   ]
  },
  {
   "cell_type": "code",
   "execution_count": null,
   "metadata": {
    "collapsed": false
   },
   "outputs": [],
   "source": [
    "# Best performance with architecture 32, 64, 512.\n",
    "params = common.copy()\n",
    "params['dir_name']       = 'mnist1/gconv_gconv_fc_softmax_best'\n",
    "params['regularization'] = 5e-5\n",
    "params['dropout']        = 0.5\n",
    "params['learning_rate']  = 0.03\n",
    "params['decay_rate']     = 0.95\n",
    "params['momentum']       = 0.9\n",
    "params['F']              = [32, 64]\n",
    "params['K']              = [20, 20]\n",
    "params['p']              = [4, 4]\n",
    "params['M']              = [512, C]\n",
    "model = cgcnn(L, **params)\n",
    "model.fit(mnist.train.images, mnist.train.labels, mnist.validation.images, mnist.validation.labels)\n",
    "print('train {}'.format(model.evaluate(mnist.train.images, mnist.train.labels)[0]))\n",
    "print('test {}'.format(model.evaluate(mnist.test.images, mnist.test.labels)[0]))"
   ]
  }
 ],
 "metadata": {
  "kernelspec": {
   "display_name": "Python 3",
   "language": "python",
   "name": "python3"
  },
  "language_info": {
   "codemirror_mode": {
    "name": "ipython",
    "version": 3
   },
   "file_extension": ".py",
   "mimetype": "text/x-python",
   "name": "python",
   "nbconvert_exporter": "python",
   "pygments_lexer": "ipython3",
   "version": "3.5.1"
  }
 },
 "nbformat": 4,
 "nbformat_minor": 0
}
