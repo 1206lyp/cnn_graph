{
 "cells": [
  {
   "cell_type": "code",
   "execution_count": null,
   "metadata": {
    "collapsed": false
   },
   "outputs": [],
   "source": [
    "import tensorflow as tf\n",
    "import time\n",
    "import graph\n",
    "import coarsening\n",
    "\n",
    "#import models\n",
    "%run -n models.ipynb"
   ]
  },
  {
   "cell_type": "code",
   "execution_count": null,
   "metadata": {
    "collapsed": false
   },
   "outputs": [],
   "source": [
    "flags = tf.app.flags\n",
    "FLAGS = flags.FLAGS\n",
    "# 0.1 for cnn2, 0.3 for fgcnn2, 0.2 for lgcnn2\n",
    "flags.DEFINE_float('learning_rate', 0.2, 'Initial learning rate.')\n",
    "flags.DEFINE_integer('batch_size', 100, 'Batch size.')\n",
    "flags.DEFINE_float('regularization', 0, 'L2 regularizations of weights and biases.')\n",
    "flags.DEFINE_integer('number_edges', 8, 'Graph: minimum number of edges per vertex.')\n",
    "flags.DEFINE_bool('normalized_laplacian', True, 'Graph Laplacian: normalized.')\n",
    "flags.DEFINE_integer('conv_layers', 2, 'Number of convolutional layers.')"
   ]
  },
  {
   "cell_type": "markdown",
   "metadata": {},
   "source": [
    "# Feature graph"
   ]
  },
  {
   "cell_type": "code",
   "execution_count": null,
   "metadata": {
    "collapsed": false
   },
   "outputs": [],
   "source": [
    "def grid_graph(m, corners=False):\n",
    "    z = graph.grid(m)\n",
    "    A = graph.adjacency(z, k=FLAGS.number_edges)\n",
    "\n",
    "    # Connections are only vertical or horizontal on the grid.\n",
    "    # Corner vertices are connected to 2 neightbors only.\n",
    "    if corners:\n",
    "        import scipy.sparse\n",
    "        A = A.toarray()\n",
    "        A[A < A.max()/1.5] = 0\n",
    "        A = scipy.sparse.csr_matrix(A)\n",
    "        print('{} edges'.format(A.nnz))\n",
    "\n",
    "    print(\"{} > {} edges\".format(A.nnz, FLAGS.number_edges*m**2))\n",
    "    return A\n",
    "\n",
    "def coarsen(A, levels):\n",
    "    graphs, parents = coarsening.metis(A, levels)\n",
    "    perms = coarsening.compute_perm(parents)\n",
    "\n",
    "    laplacians = []\n",
    "    for i,A in enumerate(graphs):\n",
    "        M, M = A.shape\n",
    "\n",
    "        # No self-connections.\n",
    "        if True:\n",
    "            A = A.tocoo()\n",
    "            A.setdiag(0)\n",
    "\n",
    "        if i < FLAGS.conv_layers:\n",
    "            A = coarsening.perm_adjacency(A, perms[i])\n",
    "\n",
    "        A = A.tocsr()\n",
    "        A.eliminate_zeros()\n",
    "        Mnew, Mnew = A.shape\n",
    "        print('Layer {0}: M_{0} = |V| = {1} nodes ({2} added), |E| = {3} edges'.format(i, Mnew, Mnew-M, A.nnz))\n",
    "\n",
    "        L = graph.laplacian(A, normalized=FLAGS.normalized_laplacian)\n",
    "        laplacians.append(L)\n",
    "    return laplacians, perms[0]\n",
    "\n",
    "t_start = time.process_time()\n",
    "A = grid_graph(28, corners=False)\n",
    "L, perm = coarsen(A, FLAGS.conv_layers)\n",
    "print('Execution time: {:.2f}s'.format(time.process_time() - t_start))\n",
    "del A\n",
    "\n",
    "if False:\n",
    "    for i,lap in enumerate(L):\n",
    "        lamb, U = graph.fourier(lap)\n",
    "        print('L_{}: spectrum in [{:1.2e}, {:1.2e}]'.format(i, lamb[0], lamb[-1]))"
   ]
  },
  {
   "cell_type": "markdown",
   "metadata": {},
   "source": [
    "# Data"
   ]
  },
  {
   "cell_type": "code",
   "execution_count": null,
   "metadata": {
    "collapsed": false
   },
   "outputs": [],
   "source": [
    "from tensorflow.examples.tutorials.mnist import input_data\n",
    "mnist = input_data.read_data_sets(\"data_mnist\", one_hot=False)\n",
    "\n",
    "t_start = time.process_time()\n",
    "mnist.train._images = coarsening.perm_data(mnist.train._images, perm)\n",
    "mnist.test._images = coarsening.perm_data(mnist.test._images, perm)\n",
    "print('Execution time: {:.2f}s'.format(time.process_time() - t_start))\n",
    "del perm"
   ]
  },
  {
   "cell_type": "markdown",
   "metadata": {},
   "source": [
    "# Neural network"
   ]
  },
  {
   "cell_type": "code",
   "execution_count": null,
   "metadata": {
    "collapsed": false
   },
   "outputs": [],
   "source": [
    "model = fc1()\n",
    "model = fc2(nhiddens=100)\n",
    "model = cnn2(K=5, F=10)  # K=28 is equivalent to filtering with fgcnn.\n",
    "model = fcnn2(F=10)\n",
    "model = fgcnn2(L[0], F=10)\n",
    "model = lgcnn2_2(L[0], F=10, K=10)\n",
    "model = cgcnn2_2(L[0], F=10, K=20)\n",
    "#model = cgcnn2_3(L[0], F=10, K=5)\n",
    "#model = cgcnn2_4(L[0], F=10, K=5)\n",
    "#model = cgcnn2_5(L[0], F=10, K=5)\n",
    "\n",
    "if False:\n",
    "    K = 5  # 5 or 5^2\n",
    "    t_start = time.process_time()\n",
    "    mnist.test._images = graph.lanczos(L, mnist.test._images.T, K).T\n",
    "    mnist.train._images = graph.lanczos(L, mnist.train._images.T, K).T\n",
    "    model = lgcnn2_1(L, F=10, K=K)\n",
    "    print('Execution time: {:.2f}s'.format(time.process_time() - t_start))\n",
    "    x = tf.placeholder(tf.float32, (None, mnist.train.images.shape[1], K))\n",
    "else:\n",
    "    x = tf.placeholder(tf.float32, (None, mnist.train.images.shape[1]))"
   ]
  },
  {
   "cell_type": "code",
   "execution_count": null,
   "metadata": {
    "collapsed": false
   },
   "outputs": [],
   "source": [
    "#x = tf.placeholder(tf.float32, (FLAGS.batch_size, 784))\n",
    "#y = tf.placeholder(tf.int32, (FLAGS.batch_size))\n",
    "#x = tf.placeholder(tf.float32, (None, 784))\n",
    "y = tf.placeholder(tf.int32, (None))\n",
    "\n",
    "# Construct computational graph\n",
    "logits = model.inference(x)\n",
    "loss = model.loss(logits, y, FLAGS.regularization)\n",
    "train_op = model.training(loss, FLAGS.learning_rate)\n",
    "eval_correct = model.evaluation(logits, y)\n",
    "\n",
    "# Train\n",
    "t_start = time.process_time()\n",
    "init = tf.initialize_all_variables()\n",
    "sess = tf.Session()\n",
    "sess.run(init)\n",
    "for i in range(int(1e4)):\n",
    "    batch_xs, batch_ys = mnist.train.next_batch(FLAGS.batch_size)\n",
    "    sess.run(train_op, feed_dict={x: batch_xs, y: batch_ys})\n",
    "print('Training time: {:.2f}s'.format(time.process_time() - t_start))\n",
    "\n",
    "# Evaluate\n",
    "ncorrects = sess.run(eval_correct, feed_dict={x: mnist.test.images, y: mnist.test.labels})\n",
    "precision = ncorrects / mnist.test.num_examples\n",
    "print('Precision: {:.2f}% ({:d} / {:d})'.format(precision*100, ncorrects, mnist.test.num_examples))\n",
    "sess.close()"
   ]
  }
 ],
 "metadata": {
  "kernelspec": {
   "display_name": "Python 3",
   "language": "python",
   "name": "python3"
  },
  "language_info": {
   "codemirror_mode": {
    "name": "ipython",
    "version": 3
   },
   "file_extension": ".py",
   "mimetype": "text/x-python",
   "name": "python",
   "nbconvert_exporter": "python",
   "pygments_lexer": "ipython3",
   "version": "3.5.1"
  }
 },
 "nbformat": 4,
 "nbformat_minor": 0
}
