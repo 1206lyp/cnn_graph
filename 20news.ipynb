{
 "cells": [
  {
   "cell_type": "code",
   "execution_count": null,
   "metadata": {
    "collapsed": false
   },
   "outputs": [],
   "source": [
    "import sklearn, sklearn.datasets\n",
    "import sklearn.naive_bayes, sklearn.linear_model, sklearn.svm, sklearn.neighbors, sklearn.ensemble\n",
    "import scipy.sparse\n",
    "import matplotlib.pyplot as plt\n",
    "%matplotlib inline\n",
    "import tensorflow as tf\n",
    "import gensim\n",
    "import time, re, shutil\n",
    "import graph, coarsening\n",
    "\n",
    "#import models\n",
    "%run -n models.ipynb"
   ]
  },
  {
   "cell_type": "code",
   "execution_count": null,
   "metadata": {
    "collapsed": false
   },
   "outputs": [],
   "source": [
    "flags = tf.app.flags\n",
    "FLAGS = flags.FLAGS\n",
    "\n",
    "# Graphs.\n",
    "flags.DEFINE_integer('number_edges', 16, 'Graph: minimum number of edges per vertex.')\n",
    "flags.DEFINE_string('metric', 'cosine', 'Graph: similarity measure (between features).')\n",
    "# TODO: change cgcnn for combinatorial Laplacians.\n",
    "flags.DEFINE_bool('normalized_laplacian', True, 'Graph Laplacian: normalized.')\n",
    "flags.DEFINE_integer('coarsening_levels', 0, 'Number of coarsened graphs.')\n",
    "\n",
    "flags.DEFINE_string('dir_data', 'data_20news', 'Directory to store data.')\n",
    "flags.DEFINE_integer('val_size', 400, 'Size of the validation set.')"
   ]
  },
  {
   "cell_type": "markdown",
   "metadata": {},
   "source": [
    "# Data"
   ]
  },
  {
   "cell_type": "code",
   "execution_count": null,
   "metadata": {
    "collapsed": false
   },
   "outputs": [],
   "source": [
    "class Dataset(object):\n",
    "    def fetch(self, **params):\n",
    "        dataset = sklearn.datasets.fetch_20newsgroups(**params)\n",
    "        self.documents = dataset.data\n",
    "        self.labels = dataset.target\n",
    "        self.class_names = dataset.target_names\n",
    "        assert max(self.labels) + 1 == len(self.class_names)\n",
    "        N, C = len(self.documents), len(self.class_names)\n",
    "        print('N = {} documents, C = {} classes'.format(N, C))\n",
    "        #print(train.target_names)\n",
    "\n",
    "    def clean_text(self, num='substitute'):\n",
    "        # TODO: stemming, lemmatisation\n",
    "        for i,doc in enumerate(self.documents):\n",
    "            # Digits.\n",
    "            if num is 'spell':\n",
    "                doc = doc.replace('0', ' zero ')\n",
    "                doc = doc.replace('1', ' one ')\n",
    "                doc = doc.replace('2', ' two ')\n",
    "                doc = doc.replace('3', ' three ')\n",
    "                doc = doc.replace('4', ' four ')\n",
    "                doc = doc.replace('5', ' five ')\n",
    "                doc = doc.replace('6', ' six ')\n",
    "                doc = doc.replace('7', ' seven ')\n",
    "                doc = doc.replace('8', ' eight ')\n",
    "                doc = doc.replace('9', ' nine ')\n",
    "            elif num is 'substitute':\n",
    "                # All numbers are equal. Useful for embedding (countable words) ?\n",
    "                doc = re.sub('(\\\\d+)', ' NUM ', doc)\n",
    "            elif num is 'remove':\n",
    "                # Numbers are uninformative (they are all over the place). Useful for bag-of-words ?\n",
    "                # But maybe some kind of documents contain more numbers, e.g. finance.\n",
    "                # Some documents are indeed full of numbers. At least in 20NEWS.\n",
    "                doc = re.sub('[0-9]', ' ', doc)\n",
    "            # Remove everything except a-z characters and single space.\n",
    "            doc = doc.replace('$', ' dollar ')\n",
    "            doc = doc.lower()\n",
    "            doc = re.sub('[^a-z]', ' ', doc)\n",
    "            doc = ' '.join(doc.split())  # same as doc = re.sub('\\s{2,}', ' ', doc)\n",
    "            self.documents[i] = doc\n",
    "\n",
    "    def vectorize(self, **params):\n",
    "        # TODO: count or tf-idf. Or in normalize ?\n",
    "        vectorizer = sklearn.feature_extraction.text.CountVectorizer(**params)\n",
    "        self.data = vectorizer.fit_transform(self.documents)\n",
    "        self.vocab = vectorizer.get_feature_names()\n",
    "        assert len(self.vocab) == self.data.shape[1]\n",
    "    \n",
    "    def data_info(self, show_classes=False):\n",
    "        N, M = self.data.shape\n",
    "        sparsity = self.data.nnz / N / M * 100\n",
    "        print('N = {} documents, M = {} words, sparsity={:.4f}%'.format(N, M, sparsity))\n",
    "        if show_classes:\n",
    "            for i in range(len(self.class_names)):\n",
    "                num = sum(self.labels == i)\n",
    "                print('  {:5d} documents in class {:2d} ({})'.format(num, i, self.class_names[i]))\n",
    "        \n",
    "    def show_document(self, i):\n",
    "        label = self.labels[i]\n",
    "        name = self.class_names[label]\n",
    "        text = self.documents[i]\n",
    "        wc = len(text.split())\n",
    "        print('document {}: label {} --> {}, {} words'.format(i, label, name, wc))\n",
    "        try:\n",
    "            vector = self.data[i,:]\n",
    "            for j in range(vector.shape[1]):\n",
    "                if vector[0,j] != 0:\n",
    "                    print('  {:.2f} \"{}\" ({})'.format(vector[0,j], self.vocab[j], j))\n",
    "        except AttributeError:\n",
    "            pass\n",
    "        return text\n",
    "    \n",
    "    def keep_documents(self, idx):\n",
    "        \"\"\"Keep the documents given by the index, discard the others.\"\"\"\n",
    "        self.documents = [self.documents[i] for i in idx]\n",
    "        self.labels = self.labels[idx]\n",
    "        self.data = self.data[idx,:]\n",
    "\n",
    "    def keep_words(self, idx):\n",
    "        \"\"\"Keep the documents given by the index, discard the others.\"\"\"\n",
    "        self.data = self.data[:,idx]\n",
    "        self.vocab = [self.vocab[i] for i in idx]\n",
    "        try:\n",
    "            self.embeddings = self.embeddings[idx,:]\n",
    "        except AttributeError:\n",
    "            pass\n",
    "\n",
    "    def remove_short_documents(self, nwords, vocab='selected'):\n",
    "        \"\"\"Remove a document if it contains less than nwords.\"\"\"\n",
    "        if vocab is 'selected':\n",
    "            # Word count with selected vocabulary.\n",
    "            wc = self.data.sum(axis=1)\n",
    "            wc = np.squeeze(np.asarray(wc))\n",
    "        elif vocab is 'full':\n",
    "            # Word count with full vocabulary.\n",
    "            wc = np.empty(len(self.documents), dtype=np.int)\n",
    "            for i,doc in enumerate(self.documents):\n",
    "                wc[i] = len(doc.split())\n",
    "        idx = np.argwhere(wc >= nwords).squeeze()\n",
    "        self.keep_documents(idx)\n",
    "        return wc\n",
    "        \n",
    "    def keep_top_words(self, M, Mprint=20):\n",
    "        \"\"\"Keep in the vocaluary the M words who appear most often.\"\"\"\n",
    "        freq = self.data.sum(axis=0)\n",
    "        freq = np.squeeze(np.asarray(freq))\n",
    "        idx = np.argsort(freq)[::-1]\n",
    "        idx = idx[:M]\n",
    "        self.keep_words(idx)\n",
    "        print('most frequent words')\n",
    "        for i in range(Mprint):\n",
    "            print('  {:3d}: {:10s} {:6d} counts'.format(i, self.vocab[i], freq[idx][i]))\n",
    "        return freq[idx]\n",
    "    \n",
    "    def normalize(self, norm='l1'):\n",
    "        \"\"\"Normalize data to unit length.\"\"\"\n",
    "        # TODO: TF-IDF.\n",
    "        data = self.data.astype(np.float64)\n",
    "        self.data = sklearn.preprocessing.normalize(data, axis=1, norm=norm)\n",
    "        \n",
    "    def embed(self, filename=None, size=100):\n",
    "        \"\"\"Embed the vocabulary using pre-trained vectors.\"\"\"\n",
    "        if filename:\n",
    "            model = gensim.models.Word2Vec.load_word2vec_format(filename, binary=True)\n",
    "            size = model.vector_size\n",
    "        else:\n",
    "            class Sentences(object):\n",
    "                def __init__(self, documents):\n",
    "                    self.documents = documents\n",
    "                def __iter__(self):\n",
    "                    for document in self.documents:\n",
    "                        yield document.split()\n",
    "            model = gensim.models.Word2Vec(Sentences(self.documents), size)\n",
    "        self.embeddings = np.empty((len(self.vocab), size))\n",
    "        keep = []\n",
    "        for i,word in enumerate(self.vocab):\n",
    "            try:\n",
    "                self.embeddings[i,:] = model[word]\n",
    "                keep.append(i)\n",
    "            except KeyError:\n",
    "                print('not found in corpus: {} (idx {})'.format(word, i))\n",
    "        self.keep_words(keep)"
   ]
  },
  {
   "cell_type": "code",
   "execution_count": null,
   "metadata": {
    "collapsed": false
   },
   "outputs": [],
   "source": [
    "# Fetch dataset. Scikit-learn already performs some cleaning.\n",
    "remove = ('headers','footers','quotes')  # (), ('headers') or ('headers','footers','quotes')\n",
    "train = Dataset()\n",
    "train.fetch(data_home=FLAGS.dir_data, subset='train', remove=remove)\n",
    "\n",
    "# Pre-processing: transform everything to a-z and whitespace.\n",
    "print(train.show_document(1)[:400])\n",
    "train.clean_text(num='substitute')\n",
    "\n",
    "# Analyzing / tokenizing: transform documents to bags-of-words.\n",
    "#stop_words = set(sklearn.feature_extraction.text.ENGLISH_STOP_WORDS)\n",
    "# Or stop words from NLTK.\n",
    "# Add e.g. don, ve.\n",
    "train.vectorize(stop_words='english')\n",
    "print(train.show_document(1)[:400])"
   ]
  },
  {
   "cell_type": "code",
   "execution_count": null,
   "metadata": {
    "collapsed": false
   },
   "outputs": [],
   "source": [
    "# Remove short documents.\n",
    "train.data_info(True)\n",
    "wc = train.remove_short_documents(nwords=20, vocab='full')\n",
    "train.data_info()\n",
    "print('shortest: {}, longest: {} words'.format(wc.min(), wc.max()))\n",
    "plt.figure(figsize=(17,5))\n",
    "plt.semilogy(wc, '.');\n",
    "\n",
    "# Remove encoded images.\n",
    "def remove_encoded_images(dataset, freq=1e3):\n",
    "    widx = train.vocab.index('ax')\n",
    "    wc = train.data[:,widx].toarray().squeeze()\n",
    "    idx = np.argwhere(wc < freq).squeeze()\n",
    "    dataset.keep_documents(idx)\n",
    "    return wc\n",
    "wc = remove_encoded_images(train)\n",
    "train.data_info()\n",
    "plt.figure(figsize=(17,5))\n",
    "plt.semilogy(wc, '.');"
   ]
  },
  {
   "cell_type": "code",
   "execution_count": null,
   "metadata": {
    "collapsed": false
   },
   "outputs": [],
   "source": [
    "# Feature selection.\n",
    "# Other options include: mutual information or document count.\n",
    "freq = train.keep_top_words(1000, 20)\n",
    "train.data_info()\n",
    "train.show_document(1)\n",
    "plt.figure(figsize=(17,5))\n",
    "plt.semilogy(freq);\n",
    "\n",
    "# Remove documents whose signal would be the zero vector.\n",
    "wc = train.remove_short_documents(nwords=5, vocab='selected')\n",
    "train.data_info(True)"
   ]
  },
  {
   "cell_type": "code",
   "execution_count": null,
   "metadata": {
    "collapsed": false
   },
   "outputs": [],
   "source": [
    "train.normalize(norm='l1')\n",
    "train.show_document(1);"
   ]
  },
  {
   "cell_type": "code",
   "execution_count": null,
   "metadata": {
    "collapsed": false
   },
   "outputs": [],
   "source": [
    "# Word embedding\n",
    "#train.embed('data_word2vec/GoogleNews-vectors-negative300.bin')\n",
    "train.embed()\n",
    "train.data_info()\n",
    "# Further feature selection. (TODO)"
   ]
  },
  {
   "cell_type": "code",
   "execution_count": null,
   "metadata": {
    "collapsed": false
   },
   "outputs": [],
   "source": [
    "# Test dataset.\n",
    "test = Dataset()\n",
    "test.fetch(data_home=FLAGS.dir_data, subset='test', remove=remove)\n",
    "test.clean_text(num='substitute')\n",
    "test.vectorize(vocabulary=train.vocab)\n",
    "test.data_info()\n",
    "wc = test.remove_short_documents(nwords=5, vocab='selected')\n",
    "print('shortest: {}, longest: {} words'.format(wc.min(), wc.max()))\n",
    "test.data_info(True)\n",
    "test.normalize(norm='l1')"
   ]
  },
  {
   "cell_type": "code",
   "execution_count": null,
   "metadata": {
    "collapsed": false
   },
   "outputs": [],
   "source": [
    "if True:\n",
    "    train_data = train.data\n",
    "    test_data = test.data\n",
    "    train_labels = train.labels\n",
    "    test_labels = test.labels\n",
    "else:\n",
    "    perm = np.random.permutation(train.data.shape[0])\n",
    "    Ntest = 6695\n",
    "    perm_test = perm[:Ntest]\n",
    "    perm_train = perm[Ntest:]\n",
    "    train_data = train.data[perm_train,:]\n",
    "    test_data = train.data[perm_test,:]\n",
    "    train_labels = train.labels[perm_train]\n",
    "    test_labels = train.labels[perm_test]\n",
    "\n",
    "#graph_data = train_data.T.toarray()\n",
    "graph_data = train.embeddings\n",
    "\n",
    "del train, test"
   ]
  },
  {
   "cell_type": "markdown",
   "metadata": {},
   "source": [
    "# Feature graph"
   ]
  },
  {
   "cell_type": "code",
   "execution_count": null,
   "metadata": {
    "collapsed": false
   },
   "outputs": [],
   "source": [
    "def coarsen(A, levels):\n",
    "    graphs, parents = coarsening.metis(A, levels)\n",
    "    perms = coarsening.compute_perm(parents)\n",
    "\n",
    "    laplacians = []\n",
    "    for i,A in enumerate(graphs):\n",
    "        M, M = A.shape\n",
    "\n",
    "        # No self-connections.\n",
    "        if True:\n",
    "            A = A.tocoo()\n",
    "            A.setdiag(0)\n",
    "\n",
    "        if i < levels:\n",
    "            A = coarsening.perm_adjacency(A, perms[i])\n",
    "\n",
    "        A = A.tocsr()\n",
    "        A.eliminate_zeros()\n",
    "        Mnew, Mnew = A.shape\n",
    "        print('Layer {0}: M_{0} = |V| = {1} nodes ({2} added), |E| = {3} edges'.format(i, Mnew, Mnew-M, A.nnz))\n",
    "\n",
    "        L = graph.laplacian(A, normalized=FLAGS.normalized_laplacian)\n",
    "        laplacians.append(L)\n",
    "    return laplacians, perms[0] if len(perms) > 0 else None\n",
    "\n",
    "t_start = time.process_time()\n",
    "A = graph.adjacency(graph_data, k=FLAGS.number_edges, metric=FLAGS.metric)\n",
    "print(\"{} > {} edges\".format(A.nnz, FLAGS.number_edges*train_data.shape[1]))\n",
    "L, perm = coarsen(A, FLAGS.coarsening_levels)\n",
    "print('Execution time: {:.2f}s'.format(time.process_time() - t_start))\n",
    "graph.plot_spectrum(L)\n",
    "del graph_data, A"
   ]
  },
  {
   "cell_type": "code",
   "execution_count": null,
   "metadata": {
    "collapsed": false
   },
   "outputs": [],
   "source": [
    "t_start = time.process_time()\n",
    "train_data = scipy.sparse.csr_matrix(coarsening.perm_data(train_data.toarray(), perm))\n",
    "test_data = scipy.sparse.csr_matrix(coarsening.perm_data(test_data.toarray(), perm))\n",
    "print('Execution time: {:.2f}s'.format(time.process_time() - t_start))\n",
    "del perm"
   ]
  },
  {
   "cell_type": "markdown",
   "metadata": {},
   "source": [
    "# Classification"
   ]
  },
  {
   "cell_type": "code",
   "execution_count": null,
   "metadata": {
    "collapsed": false
   },
   "outputs": [],
   "source": [
    "# Training set is shuffled already.\n",
    "#perm = np.random.permutation(train_data.shape[0])\n",
    "#train_data = train_data[perm,:]\n",
    "#train_labels = train_labels[perm]\n",
    "\n",
    "# Validation set.\n",
    "if True:\n",
    "    val_data = train_data[:FLAGS.val_size,:]\n",
    "    val_labels = train_labels[:FLAGS.val_size]\n",
    "    train_data = train_data[FLAGS.val_size:,:]\n",
    "    train_labels = train_labels[FLAGS.val_size:]\n",
    "else:\n",
    "    val_data = test_data\n",
    "    val_labels = test_labels"
   ]
  },
  {
   "cell_type": "code",
   "execution_count": null,
   "metadata": {
    "collapsed": false,
    "scrolled": true
   },
   "outputs": [],
   "source": [
    "# Baseline.\n",
    "def baseline():\n",
    "    clf, train_accuracy, test_accuracy, train_f1, test_f1, exec_time = [], [], [], [], [], []\n",
    "    clf.append(sklearn.neighbors.KNeighborsClassifier(n_neighbors=10))\n",
    "    clf.append(sklearn.linear_model.LogisticRegression())\n",
    "    clf.append(sklearn.naive_bayes.BernoulliNB(alpha=.01))\n",
    "    clf.append(sklearn.ensemble.RandomForestClassifier())\n",
    "    clf.append(sklearn.naive_bayes.MultinomialNB(alpha=.01))\n",
    "    clf.append(sklearn.linear_model.RidgeClassifier())\n",
    "    clf.append(sklearn.svm.LinearSVC())\n",
    "    for c in clf:\n",
    "        t_start = time.process_time()\n",
    "        c.fit(train_data, train_labels)\n",
    "        train_pred = c.predict(train_data)\n",
    "        test_pred = c.predict(test_data)\n",
    "        train_accuracy.append('{:5.2f}'.format(100*sklearn.metrics.accuracy_score(train_labels, train_pred)))\n",
    "        test_accuracy.append('{:5.2f}'.format(100*sklearn.metrics.accuracy_score(test_labels, test_pred)))\n",
    "        train_f1.append('{:5.2f}'.format(100*sklearn.metrics.f1_score(train_labels, train_pred, average='weighted')))\n",
    "        test_f1.append('{:5.2f}'.format(100*sklearn.metrics.f1_score(test_labels, test_pred, average='weighted')))\n",
    "        exec_time.append('{:5.2f}'.format(time.process_time() - t_start))\n",
    "    print('Train accuracy:      {}'.format(' '.join(train_accuracy)))\n",
    "    print('Test accuracy:       {}'.format(' '.join(test_accuracy)))\n",
    "    print('Train F1 (weighted): {}'.format(' '.join(train_f1)))\n",
    "    print('Test F1 (weighted):  {}'.format(' '.join(test_f1)))\n",
    "    print('Execution time:      {}'.format(' '.join(exec_time)))\n",
    "baseline()"
   ]
  },
  {
   "cell_type": "code",
   "execution_count": null,
   "metadata": {
    "collapsed": false
   },
   "outputs": [],
   "source": [
    "common = {}\n",
    "common['num_epochs']     = 80\n",
    "common['batch_size']     = 100\n",
    "common['decay_steps']    = len(train_labels) / common['batch_size']\n",
    "common['eval_frequency'] = 5 * common['num_epochs']\n",
    "common['filter']         = 'chebyshev5'\n",
    "common['brelu']          = 'b1relu'\n",
    "common['pool']           = 'mpool1'\n",
    "C = max(train_labels) + 1  # number of classes\n",
    "\n",
    "shutil.rmtree('summaries/20news1', ignore_errors=True)\n",
    "shutil.rmtree('checkpoints/20news1', ignore_errors=True)"
   ]
  },
  {
   "cell_type": "code",
   "execution_count": null,
   "metadata": {
    "collapsed": false
   },
   "outputs": [],
   "source": [
    "params = common.copy()\n",
    "params['dir_name']       = '20news1/softmax'\n",
    "params['regularization'] = 0\n",
    "params['dropout']        = 1\n",
    "params['learning_rate']  = 1e3\n",
    "params['decay_rate']     = 0.95\n",
    "params['momentum']       = 0.9\n",
    "params['F']              = []\n",
    "params['K']              = []\n",
    "params['p']              = []\n",
    "params['M']              = [C]\n",
    "model = cgcnn(L, **params)\n",
    "model.fit(train_data, train_labels, val_data, val_labels)\n",
    "print('train {}'.format(model.evaluate(train_data, train_labels)[0]))\n",
    "print('test  {}'.format(model.evaluate(test_data, test_labels)[0]))"
   ]
  },
  {
   "cell_type": "code",
   "execution_count": null,
   "metadata": {
    "collapsed": false,
    "scrolled": true
   },
   "outputs": [],
   "source": [
    "params = common.copy()\n",
    "params['dir_name']       = '20news1/fc_softmax'\n",
    "params['regularization'] = 0\n",
    "params['dropout']        = 1\n",
    "params['learning_rate']  = 0.1\n",
    "params['decay_rate']     = 0.95\n",
    "params['momentum']       = 0.9\n",
    "params['F']              = []\n",
    "params['K']              = []\n",
    "params['p']              = []\n",
    "params['M']              = [2500, C]\n",
    "model = cgcnn(L, **params)\n",
    "model.fit(train_data, train_labels, val_data, val_labels)\n",
    "print('train {}'.format(model.evaluate(train_data, train_labels)[0]))\n",
    "print('test  {}'.format(model.evaluate(test_data, test_labels)[0]))"
   ]
  },
  {
   "cell_type": "code",
   "execution_count": null,
   "metadata": {
    "collapsed": false,
    "scrolled": true
   },
   "outputs": [],
   "source": [
    "params = common.copy()\n",
    "params['dir_name']       = '20news1/fc_fc_softmax'\n",
    "params['regularization'] = 0\n",
    "params['dropout']        = 1\n",
    "params['learning_rate']  = 0.1\n",
    "params['decay_rate']     = 0.95\n",
    "params['momentum']       = 0.9\n",
    "params['F']              = []\n",
    "params['K']              = []\n",
    "params['p']              = []\n",
    "params['M']              = [2500, 500, C]\n",
    "model = cgcnn(L, **params)\n",
    "model.fit(train_data, train_labels, val_data, val_labels)\n",
    "print('train {}'.format(model.evaluate(train_data, train_labels)[0]))\n",
    "print('test  {}'.format(model.evaluate(test_data, test_labels)[0]))"
   ]
  },
  {
   "cell_type": "code",
   "execution_count": null,
   "metadata": {
    "collapsed": false,
    "scrolled": false
   },
   "outputs": [],
   "source": [
    "params = common.copy()\n",
    "params['dir_name']       = '20news1/gconv_softmax'\n",
    "params['regularization'] = 1e-3\n",
    "params['dropout']        = 1\n",
    "params['learning_rate']  = 0.1\n",
    "params['decay_rate']     = 0.999\n",
    "params['momentum']       = 0\n",
    "params['F']              = [32]\n",
    "params['K']              = [5]\n",
    "params['p']              = [1]\n",
    "params['M']              = [C]\n",
    "model = cgcnn(L, **params)\n",
    "model.fit(train_data, train_labels, val_data, val_labels)\n",
    "print('train {}'.format(model.evaluate(train_data, train_labels)[0]))\n",
    "print('test  {}'.format(model.evaluate(test_data, test_labels)[0]))"
   ]
  },
  {
   "cell_type": "code",
   "execution_count": null,
   "metadata": {
    "collapsed": false,
    "scrolled": false
   },
   "outputs": [],
   "source": [
    "params = common.copy()\n",
    "params['dir_name']       = '20news1/gconv_fc_softmax'\n",
    "params['regularization'] = 0\n",
    "params['dropout']        = 1\n",
    "params['learning_rate']  = 0.1\n",
    "params['decay_rate']     = 0.999\n",
    "params['momentum']       = 0\n",
    "params['F']              = [5]\n",
    "params['K']              = [15]\n",
    "params['p']              = [1]\n",
    "params['M']              = [100, C]\n",
    "model = cgcnn(L, **params)\n",
    "model.fit(train_data, train_labels, val_data, val_labels)\n",
    "print('train {}'.format(model.evaluate(train_data, train_labels)[0]))\n",
    "print('test  {}'.format(model.evaluate(test_data, test_labels)[0]))"
   ]
  },
  {
   "cell_type": "code",
   "execution_count": null,
   "metadata": {
    "collapsed": false
   },
   "outputs": [],
   "source": [
    "def grid_search(params, grid_params):\n",
    "    params = params.copy()\n",
    "    train_accuracy, test_accuracy, train_f1, test_f1 = [], [], [], []\n",
    "    grid = sklearn.grid_search.ParameterGrid(grid_params)\n",
    "    print('grid search: {} combinations to evaluate'.format(len(grid)))\n",
    "    for grid_params in grid:\n",
    "        params.update(grid_params)\n",
    "        name = '{}'.format(grid)\n",
    "        print('\\n\\n  {}  \\n\\n'.format(grid_params))\n",
    "        model = cgcnn(L, **params)\n",
    "        model.fit(train_data, train_labels, val_data, val_labels)\n",
    "        string, accuracy, f1, loss = model.evaluate(train_data, train_labels)\n",
    "        train_accuracy.append('{:5.2f}'.format(accuracy)); train_f1.append('{:5.2f}'.format(f1))\n",
    "        print('train {}'.format(string))\n",
    "        string, accuracy, f1, loss = model.evaluate(test_data, test_labels)\n",
    "        test_accuracy.append('{:5.2f}'.format(accuracy)); test_f1.append('{:5.2f}'.format(f1))\n",
    "        print('test  {}'.format(string))\n",
    "    print('\\n\\n')\n",
    "    print('Train accuracy:      {}'.format(' '.join(train_accuracy)))\n",
    "    print('Test accuracy:       {}'.format(' '.join(test_accuracy)))\n",
    "    print('Train F1 (weighted): {}'.format(' '.join(train_f1)))\n",
    "    print('Test F1 (weighted):  {}'.format(' '.join(test_f1)))\n",
    "    for i,grid_params in enumerate(grid):\n",
    "        print('{} --> {} {} {} {}'.format(grid_params, train_accuracy[i], test_accuracy[i], train_f1[i], test_f1[i]))"
   ]
  }
 ],
 "metadata": {
  "kernelspec": {
   "display_name": "Python 3",
   "language": "python",
   "name": "python3"
  },
  "language_info": {
   "codemirror_mode": {
    "name": "ipython",
    "version": 3
   },
   "file_extension": ".py",
   "mimetype": "text/x-python",
   "name": "python",
   "nbconvert_exporter": "python",
   "pygments_lexer": "ipython3",
   "version": "3.5.1"
  }
 },
 "nbformat": 4,
 "nbformat_minor": 0
}
